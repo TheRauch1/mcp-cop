{
 "cells": [
  {
   "cell_type": "code",
   "execution_count": null,
   "id": "9202ec71",
   "metadata": {},
   "outputs": [],
   "source": [
    "!pip install langchain_mcp_adapters langgraph langchain-openai"
   ]
  },
  {
   "cell_type": "markdown",
   "id": "fa3f36bd",
   "metadata": {},
   "source": [
    "# Imports"
   ]
  },
  {
   "cell_type": "code",
   "execution_count": null,
   "id": "83f85005",
   "metadata": {},
   "outputs": [],
   "source": [
    "from langchain_openai import ChatOpenAI\n",
    "from langchain_mcp_adapters.tools import load_mcp_tools\n",
    "from langchain_mcp_adapters.client import MultiServerMCPClient\n",
    "from langgraph.prebuilt import create_react_agent\n",
    "from mcp import ClientSession, StdioServerParameters\n",
    "from mcp.client.stdio import stdio_client\n",
    "import torch\n",
    "\n",
    "import subprocess\n",
    "import asyncio\n",
    "import signal\n",
    "from contextlib import asynccontextmanager\n",
    "import os"
   ]
  },
  {
   "cell_type": "markdown",
   "id": "25deb039",
   "metadata": {
    "vscode": {
     "languageId": "plaintext"
    }
   },
   "source": [
    "# Math Server"
   ]
  },
  {
   "cell_type": "code",
   "execution_count": null,
   "id": "c154d9af",
   "metadata": {},
   "outputs": [
    {
     "name": "stdout",
     "output_type": "stream",
     "text": [
      "Overwriting mcp_server.py\n"
     ]
    }
   ],
   "source": [
    "%%writefile mcp_server.py\n",
    "from mcp.server.fastmcp import FastMCP\n",
    "# Those lines have to be here!\n",
    "\n",
    "mcp_server = FastMCP(\"Math\")\n",
    "\n",
    "\n",
    "@mcp_server.tool()\n",
    "def add(a: float, b: float) -> str:\n",
    "    \"\"\"Add two numbers\"\"\"\n",
    "    return f\"Tool response: {a} + {b} = {a + b}\"\n",
    "\n",
    "\n",
    "@mcp_server.tool()\n",
    "def multiply(a: float, b: float) -> str:\n",
    "    \"\"\"Multiply two numbers\"\"\"\n",
    "    return f\"Tool response: {a} * {b} = {a * b}\"\n",
    "\n",
    "\n",
    "@mcp_server.tool()\n",
    "def subtract(a: float, b: float) -> str:\n",
    "    \"\"\"Subtract two numbers\"\"\"\n",
    "    return f\"Tool response: {a} - {b} = {a - b}\"\n",
    "\n",
    "\n",
    "@mcp_server.tool()\n",
    "def divide(a: float, b: float) -> str:\n",
    "    \"\"\"Divide two numbers\"\"\"\n",
    "    if b == 0:\n",
    "        return \"Tool response: Division by zero is not allowed.\"\n",
    "    return f\"Tool response: {a} / {b} = {a / b}\"\n",
    "\n",
    "\n",
    "@mcp_server.tool()\n",
    "def square(a: float) -> str:\n",
    "    \"\"\"Square a number\"\"\"\n",
    "    return f\"Tool response: {a}^2 = {a**2}\"\n",
    "\n",
    "\n",
    "@mcp_server.tool()\n",
    "def square_root(a: float) -> str:\n",
    "    \"\"\"Square root of a number\"\"\"\n",
    "    if a < 0:\n",
    "        return \"Tool response: Square root of negative number is not allowed.\"\n",
    "    return f\"Tool response: sqrt({a}) = {a**0.5}\"\n",
    "\n",
    "\n",
    "if __name__ == \"__main__\":\n",
    "    mcp_server.run(transport=\"sse\")"
   ]
  },
  {
   "cell_type": "markdown",
   "id": "ef78be2c",
   "metadata": {},
   "source": [
    "# Server Context Manager"
   ]
  },
  {
   "cell_type": "code",
   "execution_count": null,
   "id": "cdeba408",
   "metadata": {},
   "outputs": [],
   "source": [
    "@asynccontextmanager\n",
    "async def run_server():\n",
    "    process = subprocess.Popen([\"python\", \"mcp_server.py\"])\n",
    "    try:\n",
    "        await asyncio.sleep(1)  # give the server a moment to start up\n",
    "        yield\n",
    "    finally:\n",
    "        process.send_signal(signal.SIGINT)\n",
    "        try:\n",
    "            process.wait(timeout=5)\n",
    "        except subprocess.TimeoutExpired:\n",
    "            process.kill()"
   ]
  },
  {
   "cell_type": "markdown",
   "id": "52f8dcd3",
   "metadata": {},
   "source": [
    "# Model definition"
   ]
  },
  {
   "cell_type": "code",
   "execution_count": null,
   "id": "fec14302",
   "metadata": {},
   "outputs": [],
   "source": [
    "model = ChatOpenAI(\n",
    "    model=\"llama-70b\",\n",
    "    base_url=\"https://url/openai/\",\n",
    "    api_key=\"\"\n",
    ")"
   ]
  },
  {
   "cell_type": "markdown",
   "id": "a301d56f",
   "metadata": {},
   "source": [
    "# Define prompt"
   ]
  },
  {
   "cell_type": "code",
   "execution_count": null,
   "id": "5a956158",
   "metadata": {},
   "outputs": [],
   "source": [
    "prompt = \"What's the square root of 6 in addition to 12? Make sure to use one tool after another.\""
   ]
  },
  {
   "cell_type": "markdown",
   "id": "69c34e55",
   "metadata": {},
   "source": [
    "# Nice printing function"
   ]
  },
  {
   "cell_type": "code",
   "execution_count": null,
   "id": "4547e764",
   "metadata": {},
   "outputs": [],
   "source": [
    "def format_and_print_response(agent_response):\n",
    "    print(\"\\n=== Agent Response ===\\n\")\n",
    "    for message in agent_response[\"messages\"]:\n",
    "        if isinstance(message, dict):\n",
    "            # Handle dictionary format\n",
    "            if message.get(\"type\") == \"human\":\n",
    "                print(f\"Human: {message.get('content')}\")\n",
    "            elif message.get(\"type\") == \"ai\":\n",
    "                print(f\"Assistant: {message.get('content')}\")\n",
    "            elif message.get(\"type\") == \"tool\":\n",
    "                print(f\"Tool: {message.get('tool_name')}\")\n",
    "                print(f\"Tool input: {message.get('tool_input')}\")\n",
    "                print(f\"Tool output: {message.get('content')}\")\n",
    "        else:\n",
    "            # Handle LangChain message objects\n",
    "            if (\n",
    "                hasattr(message, \"__class__\")\n",
    "                and message.__class__.__name__ == \"HumanMessage\"\n",
    "            ):\n",
    "                print(f\"Human: {message.content}\")\n",
    "            elif (\n",
    "                hasattr(message, \"__class__\")\n",
    "                and message.__class__.__name__ == \"AIMessage\"\n",
    "            ):\n",
    "                if message.tool_calls:\n",
    "                    print(\"Assistant using tools:\")\n",
    "                    for tool_call in message.tool_calls:\n",
    "                        print(f\"  - {tool_call['name']}({tool_call['args']})\")\n",
    "                elif message.content:\n",
    "                    print(f\"Assistant: {message.content}\")\n",
    "            elif (\n",
    "                hasattr(message, \"__class__\")\n",
    "                and message.__class__.__name__ == \"ToolMessage\"\n",
    "            ):\n",
    "                print(f\"Tool '{message.name}' returned: {message.content}\")\n",
    "        print()"
   ]
  },
  {
   "attachments": {
    "image.png": {
     "image/png": "[encoded data removed]"
    }
   },
   "cell_type": "markdown",
   "id": "813d1f7a",
   "metadata": {},
   "source": [
    "# Creating and running a ReAct agent\n",
    "\n",
    "[ReAct: Synergizing Reasoning and Acting in Language Models](https://arxiv.org/abs/2210.03629)\n",
    "\n",
    "![image.png](attachment:image.png)"
   ]
  },
  {
   "cell_type": "code",
   "execution_count": null,
   "id": "0557dec0",
   "metadata": {},
   "outputs": [],
   "source": [
    "\n",
    "async def main():\n",
    "    async with MultiServerMCPClient(\n",
    "    {\n",
    "        \"math\": {\n",
    "            \"url\": \"http://localhost:8000/sse\",\n",
    "            \"transport\": \"sse\",\n",
    "        }\n",
    "    }\n",
    "    ) as session:\n",
    "            # Create and run the agent\n",
    "            agent = create_react_agent(model, session.get_tools())\n",
    "            agent_response = await agent.ainvoke(\n",
    "                {\n",
    "                    \"messages\": prompt\n",
    "                }\n",
    "            )\n",
    "            # Print agent response\n",
    "            format_and_print_response(agent_response)\n",
    "\n",
    "\n",
    "async def run_and_main():\n",
    "    async with run_server():\n",
    "        await main()\n",
    "\n",
    "await run_and_main()\n"
   ]
  }
 ],
 "metadata": {
  "kernelspec": {
   "display_name": ".venv",
   "language": "python",
   "name": "python3"
  },
  "language_info": {
   "codemirror_mode": {
    "name": "ipython",
    "version": 3
   },
   "file_extension": ".py",
   "mimetype": "text/x-python",
   "name": "python",
   "nbconvert_exporter": "python",
   "pygments_lexer": "ipython3",
   "version": "3.12.9"
  }
 },
 "nbformat": 4,
 "nbformat_minor": 5
}
